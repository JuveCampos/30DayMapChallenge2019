{
 "cells": [
  {
   "cell_type": "code",
   "execution_count": 2,
   "metadata": {},
   "outputs": [
    {
     "name": "stdout",
     "output_type": "stream",
     "text": [
      "Reading layer `OcuitucoFB' from data source `/home/juve/Escritorio/proyectoOcuituco/Bases De Datos/OcuitucoFB.geojson' using driver `GeoJSON'\n",
      "Simple feature collection with 1 feature and 6 fields\n",
      "geometry type:  MULTIPOLYGON\n",
      "dimension:      XY\n",
      "bbox:           xmin: -98.83167 ymin: 18.81252 xmax: -98.72627 ymax: 18.94571\n",
      "epsg (SRID):    4326\n",
      "proj4string:    +proj=longlat +datum=WGS84 +no_defs\n",
      "Reading layer `OcuiPop' from data source `/home/juve/Escritorio/proyectoOcuituco/OcuiPop.geojson' using driver `GeoJSON'\n",
      "Simple feature collection with 3638 features and 8 fields\n",
      "geometry type:  POINT\n",
      "dimension:      XY\n",
      "bbox:           xmin: -98.82653 ymin: 18.82458 xmax: -98.72931 ymax: 18.94042\n",
      "epsg (SRID):    4326\n",
      "proj4string:    +proj=longlat +datum=WGS84 +no_defs\n"
     ]
    }
   ],
   "source": [
    "# Version pequeña\n",
    "# Librerias\n",
    "library(sf)\n",
    "library(dplyr)\n",
    "library(leaflet)\n",
    "\n",
    "##############################\n",
    "# Abrimos las bases de datos #\n",
    "##############################\n",
    "# ocui <- st_read(\"Bases De Datos/Shapes Municipales/Muni_2012gw.shp\") %>%\n",
    "#   filter(CVE_ENT == 17 & NOM_MUN == \"Ocuituco\")\n",
    "# st_write(ocui, \"OcuitucoFB.geojson\")\n",
    "ocui <- st_read(\"Bases De Datos/OcuitucoFB.geojson\")\n",
    "\n",
    "##########################################\n",
    "# Abrimos la base de puntos de población #\n",
    "##########################################\n",
    "# pop <- read.csv(\"/home/juve/Escritorio/popFB/population_mex_2018-10-01.csv\") %>%\n",
    "#   st_as_sf(coords = c(\"longitude\", \"latitude\"), crs = 4326)\n",
    "# ## Hacemos intersección del poligono del municipio con los datos de poblacion\n",
    "# pop_ocui <- st_intersection(pop, ocui)\n",
    "# rm(pop)\n",
    "pop_ocui <- st_read(\"OcuiPop.geojson\")\n",
    "\n",
    "\n",
    "################\n",
    "# Mapa leaflet #\n",
    "################\n",
    "# Creamos el popup\n",
    "popup <- paste0(\"<b>Población 2015: <b> \",  pop_ocui$population_2015, \"<br>\",\n",
    "                \"<b>Población 2020: <b> \",  pop_ocui$population_2020, \"<br>\")\n",
    "\n",
    "# Creamos la paleta de colores\n",
    "pal <- colorNumeric(palette = \"viridis\", domain = pop_ocui$population_2015)\n"
   ]
  },
  {
   "cell_type": "code",
   "execution_count": 3,
   "metadata": {},
   "outputs": [
    {
     "name": "stderr",
     "output_type": "stream",
     "text": [
      "ERROR while rich displaying an object: Error in file(file, \"rb\"): argumento 'description' inválido\n",
      "\n",
      "Traceback:\n",
      "1. FUN(X[[i]], ...)\n",
      "2. tryCatch(withCallingHandlers({\n",
      " .     rpr <- mime2repr[[mime]](obj)\n",
      " .     if (is.null(rpr)) \n",
      " .         return(NULL)\n",
      " .     prepare_content(is.raw(rpr), rpr)\n",
      " . }, error = error_handler), error = outer_handler)\n",
      "3. tryCatchList(expr, classes, parentenv, handlers)\n",
      "4. tryCatchOne(expr, names, parentenv, handlers[[1L]])\n",
      "5. doTryCatch(return(expr), name, parentenv, handler)\n",
      "6. withCallingHandlers({\n",
      " .     rpr <- mime2repr[[mime]](obj)\n",
      " .     if (is.null(rpr)) \n",
      " .         return(NULL)\n",
      " .     prepare_content(is.raw(rpr), rpr)\n",
      " . }, error = error_handler)\n",
      "7. mime2repr[[mime]](obj)\n",
      "8. repr_html.htmlwidget(obj)\n",
      "9. lapply(obj$dependencies, function(dep) {\n",
      " .     html <- c()\n",
      " .     if (length(dep$script) > 0) {\n",
      " .         f <- file.path(dep$src$file, dep$script)\n",
      " .         html <- c(html, sprintf(\"<script src=\\\"%s\\\"></script>\", \n",
      " .             dataURI(mime = \"application/javascript\", file = f)))\n",
      " .     }\n",
      " .     if (length(dep$stylesheet) > 0) {\n",
      " .         f <- file.path(dep$src$file, dep$stylesheet)\n",
      " .         html <- c(html, sprintf(\"<link href=\\\"%s\\\" rel=\\\"stylesheet\\\" />\", \n",
      " .             dataURI(mime = \"text/css;charset-utf-8\", file = f)))\n",
      " .     }\n",
      " .     paste(html, collapse = \"\\n\")\n",
      " . })\n",
      "10. FUN(X[[i]], ...)\n",
      "11. sprintf(\"<script src=\\\"%s\\\"></script>\", dataURI(mime = \"application/javascript\", \n",
      "  .     file = f))\n",
      "12. dataURI(mime = \"application/javascript\", file = f)\n",
      "13. file(file, \"rb\")\n"
     ]
    },
    {
     "data": {
      "text/plain": [
       "HTML widgets cannot be represented in plain text (need html)"
      ]
     },
     "metadata": {},
     "output_type": "display_data"
    },
    {
     "data": {
      "text/html": [
       "19002.7174125164"
      ],
      "text/latex": [
       "19002.7174125164"
      ],
      "text/markdown": [
       "19002.7174125164"
      ],
      "text/plain": [
       "[1] 19002.72"
      ]
     },
     "metadata": {},
     "output_type": "display_data"
    }
   ],
   "source": [
    "# Hacemos el mapa \n",
    "leaflet(pop_ocui) %>% \n",
    "  addProviderTiles(\"CartoDB.Positron\") %>% \n",
    "  addTiles() %>% \n",
    "  addCircleMarkers(radius = 2, \n",
    "                   popup = popup,\n",
    "                   color = pal(pop_ocui$population_2015)) %>% \n",
    "  addPolygons(data = ocui, color = \"#000000\", weight = 2, fill = F) %>% \n",
    "  addLegend(pal = pal, \n",
    "            position = \"bottomright\",\n",
    "            values = pop_ocui$population_2015, \n",
    "            title = \"<div a style = 'color:red;'>Población 2015</div>\n",
    "            Ocuituco, Morelos\")\n",
    "\n",
    "# Sacamos la suma de poblacion total \n",
    "sum(pop_ocui$population_2015)\n"
   ]
  },
  {
   "cell_type": "code",
   "execution_count": null,
   "metadata": {},
   "outputs": [],
   "source": []
  }
 ],
 "metadata": {
  "kernelspec": {
   "display_name": "R",
   "language": "R",
   "name": "ir"
  },
  "language_info": {
   "codemirror_mode": "r",
   "file_extension": ".r",
   "mimetype": "text/x-r-source",
   "name": "R",
   "pygments_lexer": "r",
   "version": "3.5.1"
  }
 },
 "nbformat": 4,
 "nbformat_minor": 2
}
